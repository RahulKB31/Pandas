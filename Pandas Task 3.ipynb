{
 "cells": [
  {
   "cell_type": "markdown",
   "metadata": {},
   "source": [
    "# Pandas Task 1"
   ]
  },
  {
   "cell_type": "code",
   "execution_count": null,
   "metadata": {},
   "outputs": [],
   "source": [
    "#https://raw.githubusercontent.com/justmarkham/DAT8/master/data/beer.txt"
   ]
  },
  {
   "cell_type": "code",
   "execution_count": 3,
   "metadata": {},
   "outputs": [],
   "source": [
    "import pandas as pd\n",
    "df = pd.read_csv('https://raw.githubusercontent.com/justmarkham/DAT8/master/data/beer.txt')"
   ]
  },
  {
   "cell_type": "code",
   "execution_count": 4,
   "metadata": {},
   "outputs": [
    {
     "data": {
      "text/html": [
       "<div>\n",
       "<style scoped>\n",
       "    .dataframe tbody tr th:only-of-type {\n",
       "        vertical-align: middle;\n",
       "    }\n",
       "\n",
       "    .dataframe tbody tr th {\n",
       "        vertical-align: top;\n",
       "    }\n",
       "\n",
       "    .dataframe thead th {\n",
       "        text-align: right;\n",
       "    }\n",
       "</style>\n",
       "<table border=\"1\" class=\"dataframe\">\n",
       "  <thead>\n",
       "    <tr style=\"text-align: right;\">\n",
       "      <th></th>\n",
       "      <th>name calories sodium alcohol cost</th>\n",
       "    </tr>\n",
       "  </thead>\n",
       "  <tbody>\n",
       "    <tr>\n",
       "      <th>0</th>\n",
       "      <td>Budweiser 144 15 4.7 0.43</td>\n",
       "    </tr>\n",
       "    <tr>\n",
       "      <th>1</th>\n",
       "      <td>Schlitz 151 19 4.9 0.43</td>\n",
       "    </tr>\n",
       "    <tr>\n",
       "      <th>2</th>\n",
       "      <td>Lowenbrau 157 15 0.9 0.48</td>\n",
       "    </tr>\n",
       "    <tr>\n",
       "      <th>3</th>\n",
       "      <td>Kronenbourg 170 7 5.2 0.73</td>\n",
       "    </tr>\n",
       "    <tr>\n",
       "      <th>4</th>\n",
       "      <td>Heineken 152 11 5.0 0.77</td>\n",
       "    </tr>\n",
       "    <tr>\n",
       "      <th>5</th>\n",
       "      <td>Old_Milwaukee 145 23 4.6 0.28</td>\n",
       "    </tr>\n",
       "    <tr>\n",
       "      <th>6</th>\n",
       "      <td>Augsberger 175 24 5.5 0.40</td>\n",
       "    </tr>\n",
       "    <tr>\n",
       "      <th>7</th>\n",
       "      <td>Srohs_Bohemian_Style 149 27 4.7 0.42</td>\n",
       "    </tr>\n",
       "    <tr>\n",
       "      <th>8</th>\n",
       "      <td>Miller_Lite 99 10 4.3 0.43</td>\n",
       "    </tr>\n",
       "    <tr>\n",
       "      <th>9</th>\n",
       "      <td>Budweiser_Light 113 8 3.7 0.40</td>\n",
       "    </tr>\n",
       "    <tr>\n",
       "      <th>10</th>\n",
       "      <td>Coors 140 18 4.6 0.44</td>\n",
       "    </tr>\n",
       "    <tr>\n",
       "      <th>11</th>\n",
       "      <td>Coors_Light 102 15 4.1 0.46</td>\n",
       "    </tr>\n",
       "    <tr>\n",
       "      <th>12</th>\n",
       "      <td>Michelob_Light 135 11 4.2 0.50</td>\n",
       "    </tr>\n",
       "    <tr>\n",
       "      <th>13</th>\n",
       "      <td>Becks 150 19 4.7 0.76</td>\n",
       "    </tr>\n",
       "    <tr>\n",
       "      <th>14</th>\n",
       "      <td>Kirin 149 6 5.0 0.79</td>\n",
       "    </tr>\n",
       "    <tr>\n",
       "      <th>15</th>\n",
       "      <td>Pabst_Extra_Light 68 15 2.3 0.38</td>\n",
       "    </tr>\n",
       "    <tr>\n",
       "      <th>16</th>\n",
       "      <td>Hamms 139 19 4.4 0.43</td>\n",
       "    </tr>\n",
       "    <tr>\n",
       "      <th>17</th>\n",
       "      <td>Heilemans_Old_Style 144 24 4.9 0.43</td>\n",
       "    </tr>\n",
       "    <tr>\n",
       "      <th>18</th>\n",
       "      <td>Olympia_Goled_Light 72 6 2.9 0.46</td>\n",
       "    </tr>\n",
       "    <tr>\n",
       "      <th>19</th>\n",
       "      <td>Schlitz_Light 97 7 4.2 0.47</td>\n",
       "    </tr>\n",
       "  </tbody>\n",
       "</table>\n",
       "</div>"
      ],
      "text/plain": [
       "       name calories sodium alcohol cost\n",
       "0              Budweiser 144 15 4.7 0.43\n",
       "1                Schlitz 151 19 4.9 0.43\n",
       "2              Lowenbrau 157 15 0.9 0.48\n",
       "3             Kronenbourg 170 7 5.2 0.73\n",
       "4               Heineken 152 11 5.0 0.77\n",
       "5          Old_Milwaukee 145 23 4.6 0.28\n",
       "6             Augsberger 175 24 5.5 0.40\n",
       "7   Srohs_Bohemian_Style 149 27 4.7 0.42\n",
       "8             Miller_Lite 99 10 4.3 0.43\n",
       "9         Budweiser_Light 113 8 3.7 0.40\n",
       "10                 Coors 140 18 4.6 0.44\n",
       "11           Coors_Light 102 15 4.1 0.46\n",
       "12        Michelob_Light 135 11 4.2 0.50\n",
       "13                 Becks 150 19 4.7 0.76\n",
       "14                  Kirin 149 6 5.0 0.79\n",
       "15      Pabst_Extra_Light 68 15 2.3 0.38\n",
       "16                 Hamms 139 19 4.4 0.43\n",
       "17   Heilemans_Old_Style 144 24 4.9 0.43\n",
       "18     Olympia_Goled_Light 72 6 2.9 0.46\n",
       "19           Schlitz_Light 97 7 4.2 0.47"
      ]
     },
     "execution_count": 4,
     "metadata": {},
     "output_type": "execute_result"
    }
   ],
   "source": [
    "df"
   ]
  },
  {
   "cell_type": "code",
   "execution_count": 5,
   "metadata": {},
   "outputs": [
    {
     "data": {
      "text/html": [
       "<div>\n",
       "<style scoped>\n",
       "    .dataframe tbody tr th:only-of-type {\n",
       "        vertical-align: middle;\n",
       "    }\n",
       "\n",
       "    .dataframe tbody tr th {\n",
       "        vertical-align: top;\n",
       "    }\n",
       "\n",
       "    .dataframe thead th {\n",
       "        text-align: right;\n",
       "    }\n",
       "</style>\n",
       "<table border=\"1\" class=\"dataframe\">\n",
       "  <thead>\n",
       "    <tr style=\"text-align: right;\">\n",
       "      <th></th>\n",
       "      <th>name calories sodium alcohol cost</th>\n",
       "    </tr>\n",
       "  </thead>\n",
       "  <tbody>\n",
       "    <tr>\n",
       "      <th>0</th>\n",
       "      <td>Budweiser 144 15 4.7 0.43</td>\n",
       "    </tr>\n",
       "    <tr>\n",
       "      <th>1</th>\n",
       "      <td>Schlitz 151 19 4.9 0.43</td>\n",
       "    </tr>\n",
       "    <tr>\n",
       "      <th>2</th>\n",
       "      <td>Lowenbrau 157 15 0.9 0.48</td>\n",
       "    </tr>\n",
       "    <tr>\n",
       "      <th>3</th>\n",
       "      <td>Kronenbourg 170 7 5.2 0.73</td>\n",
       "    </tr>\n",
       "    <tr>\n",
       "      <th>4</th>\n",
       "      <td>Heineken 152 11 5.0 0.77</td>\n",
       "    </tr>\n",
       "  </tbody>\n",
       "</table>\n",
       "</div>"
      ],
      "text/plain": [
       "  name calories sodium alcohol cost\n",
       "0         Budweiser 144 15 4.7 0.43\n",
       "1           Schlitz 151 19 4.9 0.43\n",
       "2         Lowenbrau 157 15 0.9 0.48\n",
       "3        Kronenbourg 170 7 5.2 0.73\n",
       "4          Heineken 152 11 5.0 0.77"
      ]
     },
     "execution_count": 5,
     "metadata": {},
     "output_type": "execute_result"
    }
   ],
   "source": [
    "df.head()"
   ]
  },
  {
   "cell_type": "code",
   "execution_count": 6,
   "metadata": {},
   "outputs": [
    {
     "data": {
      "text/html": [
       "<div>\n",
       "<style scoped>\n",
       "    .dataframe tbody tr th:only-of-type {\n",
       "        vertical-align: middle;\n",
       "    }\n",
       "\n",
       "    .dataframe tbody tr th {\n",
       "        vertical-align: top;\n",
       "    }\n",
       "\n",
       "    .dataframe thead th {\n",
       "        text-align: right;\n",
       "    }\n",
       "</style>\n",
       "<table border=\"1\" class=\"dataframe\">\n",
       "  <thead>\n",
       "    <tr style=\"text-align: right;\">\n",
       "      <th></th>\n",
       "      <th>name calories sodium alcohol cost</th>\n",
       "    </tr>\n",
       "  </thead>\n",
       "  <tbody>\n",
       "    <tr>\n",
       "      <th>15</th>\n",
       "      <td>Pabst_Extra_Light 68 15 2.3 0.38</td>\n",
       "    </tr>\n",
       "    <tr>\n",
       "      <th>16</th>\n",
       "      <td>Hamms 139 19 4.4 0.43</td>\n",
       "    </tr>\n",
       "    <tr>\n",
       "      <th>17</th>\n",
       "      <td>Heilemans_Old_Style 144 24 4.9 0.43</td>\n",
       "    </tr>\n",
       "    <tr>\n",
       "      <th>18</th>\n",
       "      <td>Olympia_Goled_Light 72 6 2.9 0.46</td>\n",
       "    </tr>\n",
       "    <tr>\n",
       "      <th>19</th>\n",
       "      <td>Schlitz_Light 97 7 4.2 0.47</td>\n",
       "    </tr>\n",
       "  </tbody>\n",
       "</table>\n",
       "</div>"
      ],
      "text/plain": [
       "      name calories sodium alcohol cost\n",
       "15     Pabst_Extra_Light 68 15 2.3 0.38\n",
       "16                Hamms 139 19 4.4 0.43\n",
       "17  Heilemans_Old_Style 144 24 4.9 0.43\n",
       "18    Olympia_Goled_Light 72 6 2.9 0.46\n",
       "19          Schlitz_Light 97 7 4.2 0.47"
      ]
     },
     "execution_count": 6,
     "metadata": {},
     "output_type": "execute_result"
    }
   ],
   "source": [
    "df.tail()"
   ]
  },
  {
   "cell_type": "code",
   "execution_count": 8,
   "metadata": {},
   "outputs": [
    {
     "data": {
      "text/plain": [
       "(20, 1)"
      ]
     },
     "execution_count": 8,
     "metadata": {},
     "output_type": "execute_result"
    }
   ],
   "source": [
    "df.shape"
   ]
  },
  {
   "cell_type": "code",
   "execution_count": 9,
   "metadata": {},
   "outputs": [
    {
     "data": {
      "text/plain": [
       "RangeIndex(start=0, stop=20, step=1)"
      ]
     },
     "execution_count": 9,
     "metadata": {},
     "output_type": "execute_result"
    }
   ],
   "source": [
    "df.index"
   ]
  },
  {
   "cell_type": "code",
   "execution_count": 10,
   "metadata": {},
   "outputs": [
    {
     "data": {
      "text/plain": [
       "Index(['name calories sodium alcohol cost'], dtype='object')"
      ]
     },
     "execution_count": 10,
     "metadata": {},
     "output_type": "execute_result"
    }
   ],
   "source": [
    "df.columns"
   ]
  },
  {
   "cell_type": "code",
   "execution_count": 11,
   "metadata": {},
   "outputs": [
    {
     "data": {
      "text/plain": [
       "name calories sodium alcohol cost    object\n",
       "dtype: object"
      ]
     },
     "execution_count": 11,
     "metadata": {},
     "output_type": "execute_result"
    }
   ],
   "source": [
    "df.dtypes"
   ]
  },
  {
   "cell_type": "code",
   "execution_count": 12,
   "metadata": {},
   "outputs": [
    {
     "data": {
      "text/plain": [
       "array(['Budweiser 144 15 4.7 0.43', 'Schlitz 151 19 4.9 0.43',\n",
       "       'Lowenbrau 157 15 0.9 0.48', 'Kronenbourg 170 7 5.2 0.73',\n",
       "       'Heineken 152 11 5.0 0.77', 'Old_Milwaukee 145 23 4.6 0.28',\n",
       "       'Augsberger 175 24 5.5 0.40',\n",
       "       'Srohs_Bohemian_Style 149 27 4.7 0.42',\n",
       "       'Miller_Lite 99 10 4.3 0.43', 'Budweiser_Light 113 8 3.7 0.40',\n",
       "       'Coors 140 18 4.6 0.44', 'Coors_Light 102 15 4.1 0.46',\n",
       "       'Michelob_Light 135 11 4.2 0.50', 'Becks 150 19 4.7 0.76',\n",
       "       'Kirin 149 6 5.0 0.79', 'Pabst_Extra_Light 68 15 2.3 0.38',\n",
       "       'Hamms 139 19 4.4 0.43', 'Heilemans_Old_Style 144 24 4.9 0.43',\n",
       "       'Olympia_Goled_Light 72 6 2.9 0.46', 'Schlitz_Light 97 7 4.2 0.47'],\n",
       "      dtype=object)"
      ]
     },
     "execution_count": 12,
     "metadata": {},
     "output_type": "execute_result"
    }
   ],
   "source": [
    "df['name calories sodium alcohol cost'].unique()"
   ]
  },
  {
   "cell_type": "code",
   "execution_count": 13,
   "metadata": {},
   "outputs": [
    {
     "data": {
      "text/plain": [
       "name calories sodium alcohol cost    20\n",
       "dtype: int64"
      ]
     },
     "execution_count": 13,
     "metadata": {},
     "output_type": "execute_result"
    }
   ],
   "source": [
    "df.nunique()"
   ]
  },
  {
   "cell_type": "code",
   "execution_count": 14,
   "metadata": {},
   "outputs": [
    {
     "data": {
      "text/plain": [
       "name calories sodium alcohol cost    20\n",
       "dtype: int64"
      ]
     },
     "execution_count": 14,
     "metadata": {},
     "output_type": "execute_result"
    }
   ],
   "source": [
    "df.count()"
   ]
  },
  {
   "cell_type": "code",
   "execution_count": 15,
   "metadata": {},
   "outputs": [
    {
     "data": {
      "text/plain": [
       "name calories sodium alcohol cost   \n",
       "Srohs_Bohemian_Style 149 27 4.7 0.42    1\n",
       "Schlitz_Light 97 7 4.2 0.47             1\n",
       "Becks 150 19 4.7 0.76                   1\n",
       "Budweiser 144 15 4.7 0.43               1\n",
       "Budweiser_Light 113 8 3.7 0.40          1\n",
       "Coors 140 18 4.6 0.44                   1\n",
       "Coors_Light 102 15 4.1 0.46             1\n",
       "Hamms 139 19 4.4 0.43                   1\n",
       "Heilemans_Old_Style 144 24 4.9 0.43     1\n",
       "Heineken 152 11 5.0 0.77                1\n",
       "Kirin 149 6 5.0 0.79                    1\n",
       "Kronenbourg 170 7 5.2 0.73              1\n",
       "Lowenbrau 157 15 0.9 0.48               1\n",
       "Michelob_Light 135 11 4.2 0.50          1\n",
       "Miller_Lite 99 10 4.3 0.43              1\n",
       "Old_Milwaukee 145 23 4.6 0.28           1\n",
       "Olympia_Goled_Light 72 6 2.9 0.46       1\n",
       "Pabst_Extra_Light 68 15 2.3 0.38        1\n",
       "Schlitz 151 19 4.9 0.43                 1\n",
       "Augsberger 175 24 5.5 0.40              1\n",
       "dtype: int64"
      ]
     },
     "execution_count": 15,
     "metadata": {},
     "output_type": "execute_result"
    }
   ],
   "source": [
    "df.value_counts()"
   ]
  },
  {
   "cell_type": "code",
   "execution_count": 16,
   "metadata": {},
   "outputs": [
    {
     "name": "stdout",
     "output_type": "stream",
     "text": [
      "<class 'pandas.core.frame.DataFrame'>\n",
      "RangeIndex: 20 entries, 0 to 19\n",
      "Data columns (total 1 columns):\n",
      " #   Column                             Non-Null Count  Dtype \n",
      "---  ------                             --------------  ----- \n",
      " 0   name calories sodium alcohol cost  20 non-null     object\n",
      "dtypes: object(1)\n",
      "memory usage: 288.0+ bytes\n"
     ]
    }
   ],
   "source": [
    "df.info()"
   ]
  },
  {
   "cell_type": "code",
   "execution_count": null,
   "metadata": {},
   "outputs": [],
   "source": []
  }
 ],
 "metadata": {
  "kernelspec": {
   "display_name": "Python 3",
   "language": "python",
   "name": "python3"
  },
  "language_info": {
   "codemirror_mode": {
    "name": "ipython",
    "version": 3
   },
   "file_extension": ".py",
   "mimetype": "text/x-python",
   "name": "python",
   "nbconvert_exporter": "python",
   "pygments_lexer": "ipython3",
   "version": "3.8.5"
  }
 },
 "nbformat": 4,
 "nbformat_minor": 4
}
